{
  "nbformat": 4,
  "nbformat_minor": 0,
  "metadata": {
    "colab": {
      "name": "Editable internal uplift_report.ipynb",
      "version": "0.3.2",
      "provenance": [],
      "collapsed_sections": [],
      "include_colab_link": true
    },
    "kernelspec": {
      "name": "python3",
      "display_name": "Python 3"
    }
  },
  "cells": [
    {
      "cell_type": "markdown",
      "metadata": {
        "id": "view-in-github",
        "colab_type": "text"
      },
      "source": [
        "<a href=\"https://colab.research.google.com/github/d0rcsa/uplift-report/blob/internal-editable/Editable_internal_uplift_report.ipynb\" target=\"_parent\"><img src=\"https://colab.research.google.com/assets/colab-badge.svg\" alt=\"Open In Colab\"/></a>"
      ]
    },
    {
      "cell_type": "markdown",
      "metadata": {
        "colab_type": "text",
        "id": "5mOAgeTNy0-o"
      },
      "source": [
        "# Remerge uplift report\n",
        "\n",
        "This notebook allows you to validate remerge provided uplift reporting numbers. To do so it downloads and analyses exported campaign and event data from S3. The campaign data contains all users that remerge marked to be part of an uplift test, the A/B group assignment, the timestamp of marking, conversion events (click, app open or similar) and their cost. The event data reflects the app event stream and includes events, their timestamp and revenue (if any). We calculate the incremental revenue and the iROAS in line with the [remerge whitepaper](https://drive.google.com/file/d/1PTJ93Cpjw1BeiVns8dTcs2zDDWmmjpdc/view). \n",
        "\n",
        "**Hint**: This notebook can be run in any Jupyter instance with enough space/memory, as a [Google Colab notebook](#Google-Colab-version) or as a standalone Python script. If you are using a copy of this notebook running on Colab or locally you can find the original template on [GitHub: remerge/uplift-report](https://github.com/remerge/uplift-report/blob/master/uplift_report_per_campaign.ipynb)\n",
        "\n",
        "### Notebook configuration\n",
        "\n",
        "For this notebook to work properly several variables in the [Configuration](#Configuration) section need to be be set: `customer`, `audience`, `\n",
        "revenue_event`, `dates` and the AWS credentials. All of these will be provided by your remerge account manager. "
      ]
    },
    {
      "cell_type": "markdown",
      "metadata": {
        "colab_type": "text",
        "id": "kyYz6TCny0-q"
      },
      "source": [
        "## Import packages\n",
        "\n",
        "This notebook/script needs our Uplift Report helper library, as long as several other dependencies it brings with it\n"
      ]
    },
    {
      "cell_type": "markdown",
      "metadata": {
        "id": "y9hjp-yR6MsK",
        "colab_type": "text"
      },
      "source": [
        "## Load helpers"
      ]
    },
    {
      "cell_type": "code",
      "metadata": {
        "id": "AoWjTAVwpvC8",
        "colab_type": "code",
        "colab": {}
      },
      "source": [
        "!pip install 'xxhash==1.3.0'\n",
        "!pip install 'pandas==0.24.2'\n",
        "!pip install 'scipy==1.3.0'\n",
        "!pip install 's3fs==0.3.0'\n",
        "!pip install 'pyarrow==0.14.0'\n",
        "!pip install 'partd==1.0.0'"
      ],
      "execution_count": 0,
      "outputs": []
    },
    {
      "cell_type": "markdown",
      "metadata": {
        "id": "lkZw79MIruGs",
        "colab_type": "text"
      },
      "source": [
        "## Helpers"
      ]
    },
    {
      "cell_type": "code",
      "metadata": {
        "id": "SnGh2niupU4Y",
        "colab_type": "code",
        "colab": {}
      },
      "source": [
        "# Constants\n",
        "__version__ = '5.4.14-internal'\n",
        "\n",
        "# constants for groups\n",
        "TEST = True\n",
        "CONTROL = False"
      ],
      "execution_count": 0,
      "outputs": []
    },
    {
      "cell_type": "code",
      "metadata": {
        "id": "x45pJmcMpe9t",
        "colab_type": "code",
        "colab": {}
      },
      "source": [
        "# Helpers\n",
        "from datetime import datetime\n",
        "import pandas as pd\n",
        "import xxhash\n",
        "import os\n",
        "import scipy\n",
        "import scipy.stats\n",
        "import s3fs\n",
        "\n",
        "from IPython.display import display\n",
        "\n",
        "cache_folder = \"cache-v{0}\".format(__version__)\n",
        "\n",
        "\n",
        "def improve_types(df):\n",
        "    \"\"\"\n",
        "    Use more memory efficient types for ts,user_id and ab_test_group\n",
        "    \"\"\"\n",
        "    df['ts'] = pd.to_datetime(df['ts'])\n",
        "    df['ts'] = (df['ts'].astype('int64') / 1e9).astype('int32')\n",
        "    df['user_id'] = df['user_id'].apply(xxhash.xxh64_intdigest).astype('int64')\n",
        "    df['ab_test_group'] = df['ab_test_group'].transform(lambda g: g == 'test')\n",
        "    return df\n",
        "\n",
        "\n",
        "def path(customer, audience):\n",
        "    return \"s3://remerge-customers/{0}/uplift_data/{1}\".format(customer, audience)\n",
        "\n",
        "\n",
        "def extract_revenue_events(df, revenue_event):\n",
        "    \"\"\"\n",
        "    Only keep rows where the event is a revenue event and drop the partner_event column afterwards\n",
        "    \"\"\"\n",
        "    df = df[df.partner_event == revenue_event]\n",
        "    return df.drop(columns=['partner_event'])\n",
        "\n",
        "\n",
        "def to_parquet(df, filename):\n",
        "    \"\"\"\n",
        "    parquet save and load helper\n",
        "    \"\"\"\n",
        "    df.to_parquet(filename, engine='pyarrow')\n",
        "\n",
        "\n",
        "def from_parquet_corrected(filename, s3_filename, fs, columns):\n",
        "    \"\"\"\n",
        "    A little \"hack\" to convert old file on the fly\n",
        "    \"\"\"\n",
        "    df = from_parquet(filename)\n",
        "    update_cache = False\n",
        "    if columns:\n",
        "        to_drop = list(set(df.columns.values) - set(columns))\n",
        "        if to_drop:\n",
        "            df = df.drop(columns=to_drop)\n",
        "            update_cache = True\n",
        "\n",
        "    # remove events without a user id\n",
        "    if df['user_id'].dtype == 'object':\n",
        "        if df[df['user_id'].isnull()].empty == False or df[df['user_id'].str.len() != 36].empty == False:\n",
        "            df = df[df['user_id'].str.len() == 36]\n",
        "            update_cache = True\n",
        "\n",
        "    if df['user_id'].dtype != 'int64':\n",
        "        df = improve_types(df)\n",
        "        update_cache = True\n",
        "\n",
        "    if update_cache:\n",
        "        print(datetime.now(), 'rewritting cached file with correct types (local and S3)', filename, s3_filename)\n",
        "        to_parquet(df, filename)\n",
        "        fs.put(filename, s3_filename)\n",
        "\n",
        "    return df\n",
        "\n",
        "\n",
        "def from_parquet(filename):\n",
        "    return pd.read_parquet(filename, engine='pyarrow')\n",
        "\n",
        "\n",
        "def read_csv(customer, audience, source, date, columns=None, revenue_event=None, chunk_filter_fn=None,\n",
        "             chunk_size=10 ** 6):\n",
        "    \"\"\"\n",
        "    Helper to download CSV files, convert to DF and print time needed.\n",
        "    Caches files locally and on S3 to be reused.\n",
        "    \"\"\"\n",
        "    now = datetime.now()\n",
        "\n",
        "    date_str = date.strftime('%Y%m%d')\n",
        "\n",
        "    filename = '{0}/{1}/{2}.csv.gz'.format(path(customer, audience), source, date_str)\n",
        "\n",
        "    # local cache\n",
        "    cache_dir = '{0}/{1}/{2}'.format(cache_folder, audience, source)\n",
        "    if not os.path.exists(cache_dir):\n",
        "        os.makedirs(cache_dir)\n",
        "\n",
        "    cache_filename = '{0}/{1}.parquet'.format(cache_dir, date_str)\n",
        "\n",
        "    # s3 cache (useful if we don't have enough space on the Colab instance)\n",
        "    s3_cache_filename = '{0}/{1}/{2}/{3}.parquet'.format(path(customer, audience), source, cache_folder, date_str)\n",
        "\n",
        "    if source == 'attributions':\n",
        "        cache_filename = '{0}/{1}-{2}.parquet'.format(cache_dir, date_str, revenue_event)\n",
        "\n",
        "        # s3 cache (useful if we don't have enough space on the Colab instance)\n",
        "        s3_cache_filename = '{0}/{1}/{2}/{3}-{4}.parquet' \\\n",
        "            .format(path(customer, audience), source, cache_folder, date_str, revenue_event)\n",
        "\n",
        "    fs = s3fs.S3FileSystem(anon=False)\n",
        "    fs.connect_timeout = 10  # defaults to 5\n",
        "    fs.read_timeout = 30  # defaults to 15 \n",
        "\n",
        "    if os.path.exists(cache_filename):\n",
        "        print(now, 'loading from', cache_filename)\n",
        "        return from_parquet_corrected(cache_filename, s3_cache_filename, fs, columns)\n",
        "\n",
        "    if fs.exists(path=s3_cache_filename):\n",
        "        print(now, 'loading from S3 cache', s3_cache_filename)\n",
        "\n",
        "        # Download the file to local cache first to avoid timeouts during the load.\n",
        "        # This way, if they happen, restart will be using local copies first.\n",
        "        fs.get(s3_cache_filename, cache_filename)\n",
        "\n",
        "        print(now, 'stored S3 cache file to local drive, loading', cache_filename)\n",
        "\n",
        "        return from_parquet_corrected(cache_filename, s3_cache_filename, fs, columns)\n",
        "\n",
        "    print(now, 'start loading CSV for', audience, source, date)\n",
        "\n",
        "    read_csv_kwargs = {'chunksize': chunk_size}\n",
        "    if columns:\n",
        "        read_csv_kwargs['usecols'] = columns\n",
        "\n",
        "    df = pd.DataFrame()\n",
        "\n",
        "    if not fs.exists(path=filename):\n",
        "        print(now, 'WARNING: no CSV file at for: ', audience, source, date, ', skipping the file: ', filename)\n",
        "        return df\n",
        "\n",
        "    for chunk in pd.read_csv(filename, escapechar='\\\\', low_memory=False, **read_csv_kwargs):\n",
        "        if chunk_filter_fn:\n",
        "            filtered_chunk = chunk_filter_fn(chunk, revenue_event)\n",
        "        else:\n",
        "            filtered_chunk = chunk\n",
        "\n",
        "        # we are not interessted in events that do not have a group\n",
        "        filtered_chunk = filtered_chunk[filtered_chunk['ab_test_group'].isin(['test', 'control'])]\n",
        "        # remove events without a user id\n",
        "        filtered_chunk = filtered_chunk[filtered_chunk['user_id'].str.len() == 36]\n",
        "\n",
        "        filtered_chunk = improve_types(filtered_chunk)\n",
        "\n",
        "        df = pd.concat([df, filtered_chunk],\n",
        "                       ignore_index=True, verify_integrity=True)\n",
        "\n",
        "    print(datetime.now(), 'finished loading CSV for', date.strftime('%d.%m.%Y'),\n",
        "          'took', datetime.now() - now)\n",
        "\n",
        "    if not os.path.exists(cache_dir):\n",
        "        os.makedirs(cache_dir)\n",
        "\n",
        "    print(datetime.now(), 'caching local as parquet', cache_filename)\n",
        "    to_parquet(df, cache_filename)\n",
        "\n",
        "    # write it to the S3 cache folder as well\n",
        "    print(datetime.now(), 'caching on S3 as parquet', s3_cache_filename)\n",
        "    to_parquet(df, s3_cache_filename)\n",
        "\n",
        "    return df\n",
        "\n",
        "\n",
        "def calculate_ad_spend(df):\n",
        "    ad_spend_micros = df[(df.event_type == 'buying_conversion') & (df.ab_test_group == TEST)]['cost_eur'].sum()\n",
        "    return ad_spend_micros / 10 ** 6\n",
        "\n",
        "\n",
        "def marked(df):\n",
        "    \"\"\"\n",
        "    The dataframe created by `marked` will contain all mark events. Remerge marks users per campaign. If a user was\n",
        "    marked once for an audience he will have the same group allocation for consecutive marks (different campaigns)\n",
        "    unless manually reset on audience level.\n",
        "    \"\"\"\n",
        "    mark_df = df[df.event_type == 'mark']\n",
        "\n",
        "    # we dont need the event_type anymore (to save memory)\n",
        "    mark_df = mark_df.drop(columns=['event_type'])\n",
        "\n",
        "    sorted_mark_df = mark_df.sort_values('ts')\n",
        "\n",
        "    depuplicated_mark_df = sorted_mark_df.drop_duplicates(['user_id'])\n",
        "\n",
        "    return depuplicated_mark_df\n",
        "\n",
        "\n",
        "def merge(mark_df, attributions_df):\n",
        "    \"\"\"\n",
        "    `merge` joins the marked users with the revenue events and excludes any revenue event that happened before the\n",
        "    user was marked.\n",
        "    \"\"\"\n",
        "    merged_df = pd.merge(attributions_df, mark_df, on='user_id')\n",
        "\n",
        "    return merged_df[merged_df.ts_x > merged_df.ts_y]\n",
        "\n",
        "\n",
        "def drop_duplicates_in_attributions(df, max_timedelta):\n",
        "    \"\"\"\n",
        "    # Clean the data\n",
        "\n",
        "    Due to some inconsistencies in the measurement we need to clean the data before analysis.\n",
        "\n",
        "    ### Remove duplicated events coming from AppsFlyer\n",
        "\n",
        "    AppsFlyer is sending us two revenue events if they attribute the event to us. One of the events they send us does\n",
        "    not contain attribution information and the other one does. Sadly, it is not possible for us to distinguish\n",
        "    correctly if an event is a duplicate or if the user actually triggered two events with nearly the same information.\n",
        "    Therefore we rely on a heuristic. We consider an event a duplicate if the user and revenue are equal and the events\n",
        "    are less than a minute apart.\n",
        "    \"\"\"\n",
        "    sorted = df.sort_values(['user_id', 'revenue_eur'])\n",
        "\n",
        "    # Get values of the previous row\n",
        "    sorted['last_ts'] = sorted['ts'].shift(1)\n",
        "    sorted['last_user_id'] = sorted['user_id'].shift(1)\n",
        "    sorted['last_revenue'] = sorted['revenue_eur'].shift(1)\n",
        "\n",
        "    # Remove rows if the previous row has the same revenue_eur and user id and the ts are less than max_timedelta apart\n",
        "    filtered = sorted[\n",
        "        (sorted['user_id'] != sorted['last_user_id']) |\n",
        "        (sorted['revenue_eur'] != sorted['last_revenue']) |\n",
        "        ((pd.to_datetime(sorted['ts']) - pd.to_datetime(sorted['last_ts'])) > max_timedelta)]\n",
        "\n",
        "    return filtered[['ts', 'user_id', 'revenue_eur', 'ab_test_group']]\n",
        "\n",
        "\n",
        "def uplift(bids_df, attributions_df, index_name, use_converters_for_significance, m_hypothesis=1):\n",
        "    \"\"\"\n",
        "    # Uplift Calculation\n",
        "\n",
        "    We calculate the incremental revenue and the iROAS in line with the\n",
        "    [remerge whitepaper](https://drive.google.com/file/d/1PTJ93Cpjw1BeiVns8dTcs2zDDWmmjpdc/view). Afterwards we run a\n",
        "    [chi squared test](https://en.wikipedia.org/wiki/Chi-squared_test) on the results to test for significance of the\n",
        "    results, comparing conversion to per group uniques.\n",
        "    \"\"\"\n",
        "    # filter for mark events\n",
        "    marks_df = marked(bids_df)\n",
        "\n",
        "    # calculate group sizes\n",
        "    test_group_size = marks_df[marks_df['ab_test_group'] == TEST]['user_id'].nunique()\n",
        "    if test_group_size == 0:\n",
        "        print(\"WARNING: No users marked as test for \", index_name, 'skipping.. ')\n",
        "        return None\n",
        "\n",
        "    control_group_size = marks_df[marks_df['ab_test_group'] == CONTROL]['user_id'].nunique()\n",
        "    if control_group_size == 0:\n",
        "        print(\"WARNING: No users marked as control for \", index_name, 'skipping.. ')\n",
        "        return None\n",
        "\n",
        "    # Dask based join, for later and bigger datasets\n",
        "    # marks_df = dd.from_pandas(marks_df, npartitions=10, sort=True)    \n",
        "    # attributions_df = dd.from_pandas(attributions_df, npartitions=20, sort=True)\n",
        "    # merged_df = dd.merge(attributions_df, marks_df, on='user_id')\n",
        "    # merged_df = merged_df[merged_df.ts_x > merged_df.ts_y]\n",
        "    # merged_df = merged_df.compute()\n",
        "\n",
        "    # join marks and revenue events    \n",
        "    merged_df = merge(marks_df, attributions_df)\n",
        "    grouped_revenue = merged_df.groupby(by='ab_test_group_y')\n",
        "\n",
        "    # init all KPIs with 0s first:\n",
        "    test_revenue_micros = 0\n",
        "    test_conversions = 0\n",
        "    test_converters = 0\n",
        "\n",
        "    control_revenue_micros = 0\n",
        "    control_conversions = 0\n",
        "    control_converters = 0\n",
        "\n",
        "    # we might not have any events for a certain group in the time-period,\n",
        "    if TEST in grouped_revenue.groups:\n",
        "        test_revenue_df = grouped_revenue.get_group(TEST)\n",
        "        test_revenue_micros = test_revenue_df['revenue_eur'].sum()\n",
        "        # test_conversions = test_revenue_df['partner_event'].count()\n",
        "        # as we filtered by revenue event and dropped the column we can just use\n",
        "        test_conversions = test_revenue_df['user_id'].count()\n",
        "        test_converters = test_revenue_df['user_id'].nunique()\n",
        "\n",
        "    if CONTROL in grouped_revenue.groups:\n",
        "        control_revenue_df = grouped_revenue.get_group(CONTROL)\n",
        "        control_revenue_micros = control_revenue_df['revenue_eur'].sum()\n",
        "        # control_conversions = control_revenue_df['partner_event'].count()\n",
        "        # as we filtered by revenue event and dropped the column we can just use\n",
        "        control_conversions = control_revenue_df['user_id'].count()\n",
        "        control_converters = control_revenue_df['user_id'].nunique()\n",
        "\n",
        "    # calculate KPIs\n",
        "    test_revenue = test_revenue_micros / 10 ** 6\n",
        "    control_revenue = control_revenue_micros / 10 ** 6\n",
        "\n",
        "    ratio = float(test_group_size) / float(control_group_size)\n",
        "    scaled_control_conversions = float(control_conversions) * ratio\n",
        "    scaled_control_revenue_micros = float(control_revenue_micros) * ratio\n",
        "    incremental_conversions = test_conversions - scaled_control_conversions\n",
        "    incremental_revenue_micros = test_revenue_micros - scaled_control_revenue_micros\n",
        "    incremental_revenue = incremental_revenue_micros / 10 ** 6\n",
        "    incremental_converters = test_converters - control_converters * ratio\n",
        "\n",
        "    # calculate the ad spend        \n",
        "    ad_spend = calculate_ad_spend(bids_df)\n",
        "\n",
        "    iroas = incremental_revenue / ad_spend\n",
        "    icpa = ad_spend / incremental_conversions\n",
        "    cost_per_incremental_converter = ad_spend / incremental_converters\n",
        "\n",
        "    rev_per_conversion_test = 0\n",
        "    rev_per_conversion_control = 0\n",
        "    if test_conversions > 0:\n",
        "        rev_per_conversion_test = test_revenue / test_conversions\n",
        "    if control_conversions > 0:\n",
        "        rev_per_conversion_control = control_revenue / control_conversions\n",
        "\n",
        "    test_cvr = test_conversions / test_group_size\n",
        "    control_cvr = control_conversions / control_group_size\n",
        "\n",
        "    uplift = 0\n",
        "    if control_cvr > 0:\n",
        "        uplift = test_cvr / control_cvr - 1\n",
        "\n",
        "    # calculate statistical significance\n",
        "    control_successes, test_successes = control_conversions, test_conversions\n",
        "    if use_converters_for_significance or max(test_cvr, control_cvr) > 1.0:\n",
        "        control_successes, test_successes = control_converters, test_converters\n",
        "    chi_df = pd.DataFrame({\n",
        "        \"conversions\": [control_successes, test_successes],\n",
        "        \"total\": [control_group_size, test_group_size]\n",
        "    }, index=['control', 'test'])\n",
        "    # CHI square calculation will fail with insufficient data\n",
        "    # Fallback to no significance\n",
        "    try:\n",
        "        chi, p, _, _ = scipy.stats.chi2_contingency(\n",
        "            pd.concat([chi_df.total - chi_df.conversions, chi_df.conversions], axis=1), correction=False)\n",
        "    except:\n",
        "        chi, p = 0, 1.0\n",
        "\n",
        "    # bonferroni correction with equal weights - if we have multiple hypothesis:\n",
        "    # https://en.wikipedia.org/wiki/Bonferroni_correction\n",
        "    significant = p < 0.05 / m_hypothesis\n",
        "\n",
        "    dataframe_dict = {\n",
        "        \"ad spend\": ad_spend,\n",
        "        \"total revenue\": test_revenue + control_revenue,\n",
        "        \"test group size\": test_group_size,\n",
        "        \"test conversions\": test_conversions,\n",
        "        \"test converters\": test_converters,\n",
        "        \"test revenue\": test_revenue,\n",
        "        \"control group size\": control_group_size,\n",
        "        \"control conversions\": control_conversions,\n",
        "        \"control_converters\": control_converters,\n",
        "        \"control revenue\": control_revenue,\n",
        "        \"ratio test/control\": ratio,\n",
        "        \"control conversions (scaled)\": scaled_control_conversions,\n",
        "        \"control revenue (scaled)\": scaled_control_revenue_micros / 10 ** 6,\n",
        "        \"incremental conversions\": incremental_conversions,\n",
        "        \"incremental converters\": incremental_converters,\n",
        "        \"incremental revenue\": incremental_revenue,\n",
        "        \"rev/conversions test\": rev_per_conversion_test,\n",
        "        \"rev/conversions control\": rev_per_conversion_control,\n",
        "        \"test CVR\": test_cvr,\n",
        "        \"control CVR\": control_cvr,\n",
        "        \"CVR Uplift\": uplift,\n",
        "        \"iROAS\": iroas,\n",
        "        \"cost per incr. converter\": cost_per_incremental_converter,\n",
        "        \"iCPA\": icpa,\n",
        "        \"chi^2\": chi,\n",
        "        \"p-value\": p,\n",
        "        \"significant\": significant\n",
        "    }\n",
        "\n",
        "    # show results as a dataframe\n",
        "    return pd.DataFrame(\n",
        "        dataframe_dict,\n",
        "        index=[index_name],\n",
        "    ).transpose()\n",
        "\n",
        "\n",
        "def uplift_report(bids_df, attributions_df, groups, per_campaign_results, use_converters_for_significance):\n",
        "    \"\"\"\n",
        "    Calculate and display uplift report for the data set as a whole\n",
        "    This takes the whole data set and calculates uplift KPIs.\n",
        "    \"\"\"\n",
        "    # calculate the total result:\n",
        "    report_df = uplift(bids_df, attributions_df, \"total\", use_converters_for_significance)\n",
        "\n",
        "    # if there are groups filter the events against the per campaign groups and generate report\n",
        "    if report_df is not None and len(groups) > 0:\n",
        "        for name, campaigns in groups.items():\n",
        "            group_bids_df = bids_df[bids_df.campaign_id.isin(campaigns)]\n",
        "            report_df[name] = uplift(group_bids_df, attributions_df, name, use_converters_for_significance, len(groups))\n",
        "\n",
        "    if report_df is not None and per_campaign_results:\n",
        "        campaigns = bids_df['campaign_id'].unique()\n",
        "        for campaign in campaigns:\n",
        "            name = \"c_{0}\".format(campaign)\n",
        "            campaign_bids_df = bids_df[bids_df.campaign_id == campaign]\n",
        "            report_df[name] = uplift(campaign_bids_df, attributions_df, name, use_converters_for_significance,\n",
        "                                     len(campaigns))\n",
        "    return report_df\n",
        "\n",
        "\n",
        "def export_csv(df, file_name):\n",
        "    df.to_csv(file_name)\n",
        "\n",
        "    print('Stored results as a local CSV file: %s' % file_name)\n",
        "\n",
        "    try:\n",
        "        import google.colab\n",
        "\n",
        "        print('The download of the results file should start automatically')\n",
        "        google.colab.files.download(file_name)\n",
        "    except ImportError:\n",
        "        # We are not in the collab, no need to run the download\n",
        "        pass\n"
      ],
      "execution_count": 0,
      "outputs": []
    },
    {
      "cell_type": "markdown",
      "metadata": {
        "colab_type": "text",
        "id": "7Novl387nrno"
      },
      "source": [
        "## Version\n",
        "Version of the analysis script corresponding to the methodology version in the whitepaper (Major + Minor version represent the whitepaper version, revision represents changes and fixes of the uplift report script)."
      ]
    },
    {
      "cell_type": "code",
      "metadata": {
        "colab_type": "code",
        "id": "U2vm5Z9UoHe6",
        "colab": {}
      },
      "source": [
        "display(__version__)"
      ],
      "execution_count": 0,
      "outputs": []
    },
    {
      "cell_type": "markdown",
      "metadata": {
        "colab_type": "text",
        "id": "8u6Q76fCy0-u"
      },
      "source": [
        "## Configuration\n",
        "\n",
        "Set the customer name, audience and access credentials for the S3 bucket and path. Furthermore the event for which we want to evaluate the uplift needs to be set `revenue_event`."
      ]
    },
    {
      "cell_type": "code",
      "metadata": {
        "colab_type": "code",
        "id": "wFgBi4jvsVTn",
        "colab": {}
      },
      "source": [
        "# configure path and revenue event \n",
        "customer = ''\n",
        "audiences = ['']\n",
        "revenue_event = 'purchase'\n",
        "\n",
        "# date range for the report\n",
        "dates = pd.date_range(start='2019-01-01',end='2019-01-01')\n",
        "\n",
        "# AWS credentials\n",
        "os.environ[\"AWS_ACCESS_KEY_ID\"] = ''\n",
        "os.environ[\"AWS_SECRET_ACCESS_KEY\"] = ''\n",
        "\n",
        "# Configure the reporting output: \n",
        "\n",
        "# named groups that aggregate several campaigns\n",
        "groups = {}\n",
        "\n",
        "# show uplift results per campaign:\n",
        "per_campaign_results = False\n",
        "\n",
        "# base statistical calculations on unique converters instead of conversions\n",
        "use_converters_for_significance = False\n",
        "\n",
        "# enable deduplication heuristic for appsflyer\n",
        "use_deduplication = False"
      ],
      "execution_count": 0,
      "outputs": []
    },
    {
      "cell_type": "markdown",
      "metadata": {
        "colab_type": "text",
        "id": "eSixTLyiy0_A"
      },
      "source": [
        "## Load CSV data from S3\n",
        "\n",
        "Load mark, spend and event data from S3. \n",
        "\n",
        "### IMPORTANT\n",
        "\n",
        "**The event data is usually quite large (several GB) so this operation might take several minutes or hours to complete, depending on the size and connection.**"
      ]
    },
    {
      "cell_type": "code",
      "metadata": {
        "colab_type": "code",
        "id": "PjWaWZS-y0_B",
        "colab": {}
      },
      "source": [
        "bid_columns = ['ts', 'user_id', 'ab_test_group', 'campaign_id','cost_eur','event_type']\n",
        "bids_df = pd.concat([read_csv(customer, audience, 'marks_and_spend', date, columns=bid_columns) for audience in audiences for date in dates],\n",
        "                    ignore_index=True, verify_integrity=True)"
      ],
      "execution_count": 0,
      "outputs": []
    },
    {
      "cell_type": "code",
      "metadata": {
        "colab_type": "code",
        "id": "kFg_-_EW5TR1",
        "colab": {}
      },
      "source": [
        "attribution_columns = ['ts', 'user_id', 'partner_event', 'revenue_eur', 'ab_test_group']\n",
        "attributions_df = pd.concat(\n",
        "    [read_csv(customer, audience, 'attributions', date, attribution_columns, revenue_event, extract_revenue_events ) for audience in audiences for date in dates],\n",
        "    ignore_index=True, verify_integrity=True)"
      ],
      "execution_count": 0,
      "outputs": []
    },
    {
      "cell_type": "markdown",
      "metadata": {
        "colab_type": "text",
        "id": "Ec_qFUaVy0_I"
      },
      "source": [
        "Print some statistics of the loaded data sets."
      ]
    },
    {
      "cell_type": "code",
      "metadata": {
        "colab_type": "code",
        "id": "N0Ih6SSuy0_J",
        "colab": {}
      },
      "source": [
        "bids_df.info(memory_usage='deep')"
      ],
      "execution_count": 0,
      "outputs": []
    },
    {
      "cell_type": "code",
      "metadata": {
        "colab_type": "code",
        "id": "EoU_cW07y0_M",
        "colab": {}
      },
      "source": [
        "attributions_df.info(memory_usage='deep')"
      ],
      "execution_count": 0,
      "outputs": []
    },
    {
      "cell_type": "markdown",
      "metadata": {
        "id": "Dcm2nq4G5SUs",
        "colab_type": "text"
      },
      "source": [
        "### Deduplication for appsflyer\n",
        "AppsFlyer sends some events twice - we want to remove the duplicates before the analysis"
      ]
    },
    {
      "cell_type": "code",
      "metadata": {
        "id": "vQpShRFc5SUt",
        "colab_type": "code",
        "colab": {}
      },
      "source": [
        "if use_deduplication:\n",
        "    attributions_df = drop_duplicates_in_attributions(attributions_df, pd.Timedelta('1 minute'))"
      ],
      "execution_count": 0,
      "outputs": []
    },
    {
      "cell_type": "markdown",
      "metadata": {
        "colab_type": "text",
        "id": "tKdBRvkxL8Aa"
      },
      "source": [
        "### Calculate and display uplift report for the data set as a whole\n",
        "\n",
        "This takes the whole data set and calculates uplift KPIs."
      ]
    },
    {
      "cell_type": "code",
      "metadata": {
        "colab_type": "code",
        "id": "SjX4uu6tTpK2",
        "colab": {}
      },
      "source": [
        "report = uplift_report(bids_df, attributions_df, groups, per_campaign_results, use_converters_for_significance)"
      ],
      "execution_count": 0,
      "outputs": []
    },
    {
      "cell_type": "markdown",
      "metadata": {
        "colab_type": "text",
        "id": "SdFSmL3u8Pe4"
      },
      "source": [
        "## Uplift Results\n",
        "\n",
        "You can configure the ouput by using variables in the 'Configuration' section"
      ]
    },
    {
      "cell_type": "code",
      "metadata": {
        "colab_type": "code",
        "id": "GWQXKYXB8YO2",
        "colab": {}
      },
      "source": [
        "# set formatting options\n",
        "pd.set_option('display.float_format', '{:.5f}'.format)"
      ],
      "execution_count": 0,
      "outputs": []
    },
    {
      "cell_type": "code",
      "metadata": {
        "colab_type": "code",
        "id": "S2UZOvmlaXqO",
        "colab": {}
      },
      "source": [
        "display(report)"
      ],
      "execution_count": 0,
      "outputs": []
    },
    {
      "cell_type": "markdown",
      "metadata": {
        "colab_type": "text",
        "id": "6VA_k2BobaZS"
      },
      "source": [
        "### CSV Export - combined reports"
      ]
    },
    {
      "cell_type": "code",
      "metadata": {
        "colab_type": "code",
        "id": "K-T6quwwbObO",
        "colab": {}
      },
      "source": [
        "start = dates[0]\n",
        "end = dates[-1]\n",
        "export_csv(report,'{}_{}-{}.csv'.format(customer, start, end))"
      ],
      "execution_count": 0,
      "outputs": []
    },
    {
      "cell_type": "markdown",
      "metadata": {
        "id": "DQGKxdgpr_W7",
        "colab_type": "text"
      },
      "source": [
        "## Export to overview sheet"
      ]
    },
    {
      "cell_type": "code",
      "metadata": {
        "id": "ocoZK_-ysBa3",
        "colab_type": "code",
        "colab": {}
      },
      "source": [
        "def overview_row(customer, audiences, dates, total):\n",
        "    return list([\n",
        "        customer,\n",
        "        \",\".join(audiences),\n",
        "        dates[0].strftime('%Y-%m-%d'),\n",
        "        dates[-1].strftime('%Y-%m-%d'),\n",
        "        __version__,\n",
        "    ]) + list(total.values)\n",
        "\n",
        "def export_to_overview(customer, audiences, dates, report):\n",
        "    !pip install --upgrade --quiet gspread\n",
        "    from google.colab import auth\n",
        "    auth.authenticate_user()\n",
        "\n",
        "    import gspread\n",
        "    from oauth2client.client import GoogleCredentials\n",
        "    gc = gspread.authorize(GoogleCredentials.get_application_default())\n",
        "    worksheet = gc.open('Uplift Report Overview').sheet1\n",
        "    row = overview_row(customer, audiences, dates, report['total'])\n",
        "    worksheet.append_row(row)\n",
        "   \n",
        "export_to_overview(customer, audiences, dates, report)"
      ],
      "execution_count": 0,
      "outputs": []
    }
  ]
}